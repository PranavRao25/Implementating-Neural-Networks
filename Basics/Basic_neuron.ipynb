{
 "cells": [
  {
   "cell_type": "code",
   "execution_count": 34,
   "id": "3da6de02",
   "metadata": {},
   "outputs": [],
   "source": [
    "import numpy as np"
   ]
  },
  {
   "cell_type": "markdown",
   "id": "07243dba",
   "metadata": {},
   "source": [
    "## Single Neuron"
   ]
  },
  {
   "cell_type": "markdown",
   "id": "dde09c51",
   "metadata": {},
   "source": [
    "## Example"
   ]
  },
  {
   "cell_type": "code",
   "execution_count": 35,
   "id": "97a66f25",
   "metadata": {},
   "outputs": [],
   "source": [
    "class NeuronNode:\n",
    "    def __init__(self, dim):\n",
    "        self.dim = dim\n",
    "        self.weights = [0] * dim\n",
    "        self.bias = 0\n",
    "    \n",
    "    def trigger(self, inputs):\n",
    "        if len(inputs) != len(self.weights): raise ValueError(\"Invalid Input length\")\n",
    "        return np.dot(self.weights, inputs) + self.bias # dot(Input, Weight) + bias"
   ]
  },
  {
   "cell_type": "markdown",
   "id": "d2136673",
   "metadata": {},
   "source": [
    "## Neural Network with a forward pass"
   ]
  },
  {
   "cell_type": "code",
   "execution_count": 24,
   "id": "a765187e",
   "metadata": {},
   "outputs": [],
   "source": [
    "def relu(x):\n",
    "    pass"
   ]
  },
  {
   "cell_type": "code",
   "execution_count": null,
   "id": "b0a7cde9",
   "metadata": {},
   "outputs": [],
   "source": [
    "class NeuralNetwork:\n",
    "    def __init__(self, act_fun = relu):\n",
    "        self.act_fun = act_fun\n",
    "        self.layers = []\n",
    "    \n",
    "    def add_layer(self, neurons):\n",
    "        self.layers.append(neurons)\n",
    "    \n",
    "    def forward(self, inputs):\n",
    "        current_input = inputs\n",
    "        current_level = 0\n",
    "        curr_output = [] * len(self.layers[0])\n",
    "\n",
    "        while current_level < len(self.layers):\n",
    "            curr_layer = self.layers[current_level]\n",
    "            if any(len(current_input) != neuron.dim for neuron in curr_layer):\n",
    "                raise Exception('Dimension mismatch')\n",
    "            curr_output = [neuron.trigger(current_input) for neuron in curr_layer]\n",
    "            current_input = curr_output\n",
    "            current_level += 1\n",
    "        else:\n",
    "            return curr_output"
   ]
  }
 ],
 "metadata": {
  "kernelspec": {
   "display_name": "base",
   "language": "python",
   "name": "python3"
  },
  "language_info": {
   "codemirror_mode": {
    "name": "ipython",
    "version": 3
   },
   "file_extension": ".py",
   "mimetype": "text/x-python",
   "name": "python",
   "nbconvert_exporter": "python",
   "pygments_lexer": "ipython3",
   "version": "3.13.5"
  }
 },
 "nbformat": 4,
 "nbformat_minor": 5
}
