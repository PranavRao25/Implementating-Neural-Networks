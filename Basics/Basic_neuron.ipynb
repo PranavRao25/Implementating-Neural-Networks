{
 "cells": [
  {
   "cell_type": "markdown",
   "id": "07243dba",
   "metadata": {},
   "source": [
    "# Single Neuron"
   ]
  },
  {
   "cell_type": "markdown",
   "id": "dde09c51",
   "metadata": {},
   "source": [
    "## Example"
   ]
  },
  {
   "cell_type": "code",
   "execution_count": null,
   "id": "b337a905",
   "metadata": {},
   "outputs": [],
   "source": [
    "inputs = [1, 2, 3]\n",
    "weights = [0.2, 0.8, -0.5]  # 3 dimensional vector\n",
    "bias = 2    # scalar\n",
    "\n",
    "if len(inputs) != len(weights): raise ValueError(\"Invalid Input length\")\n",
    "dot = 0\n",
    "for i, j in zip(inputs, weights):\n",
    "    dot += (i * j)\n",
    "output = dot + bias   # dot(Input, Weight) + bias"
   ]
  },
  {
   "cell_type": "code",
   "execution_count": null,
   "id": "97a66f25",
   "metadata": {},
   "outputs": [],
   "source": [
    "class NeuronNode:\n",
    "    def __init__(self, dim):\n",
    "        self.dim = dim\n",
    "        self.weights = [0] * dim\n"
   ]
  }
 ],
 "metadata": {
  "kernelspec": {
   "display_name": "base",
   "language": "python",
   "name": "python3"
  },
  "language_info": {
   "name": "python",
   "version": "3.13.5"
  }
 },
 "nbformat": 4,
 "nbformat_minor": 5
}
