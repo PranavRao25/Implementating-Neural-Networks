{
 "cells": [
  {
   "cell_type": "code",
   "execution_count": 2,
   "id": "3da6de02",
   "metadata": {},
   "outputs": [],
   "source": [
    "import numpy as np"
   ]
  },
  {
   "cell_type": "markdown",
   "id": "07243dba",
   "metadata": {},
   "source": [
    "## Single Neuron"
   ]
  },
  {
   "cell_type": "markdown",
   "id": "dde09c51",
   "metadata": {},
   "source": [
    "## Example"
   ]
  },
  {
   "cell_type": "code",
   "execution_count": 4,
   "id": "97a66f25",
   "metadata": {},
   "outputs": [],
   "source": [
    "class NeuronNode:\n",
    "    def __init__(self, dim):\n",
    "        self.dim = dim\n",
    "        self.weights = [0] * dim\n",
    "        self.bias = 0\n",
    "    \n",
    "    def trigger(self, inputs):\n",
    "        if len(inputs) != len(self.weights): raise ValueError(\"Invalid Input length\")\n",
    "        return np.dot(self.weights, inputs) + self.bias # dot(Input, Weight) + bias"
   ]
  },
  {
   "cell_type": "markdown",
   "id": "d2136673",
   "metadata": {},
   "source": [
    "## Neural Network with a forward pass"
   ]
  },
  {
   "cell_type": "markdown",
   "id": "3e4ef9e8",
   "metadata": {},
   "source": [
    "This neural network is made of several units of NeuronNode"
   ]
  },
  {
   "cell_type": "code",
   "execution_count": 3,
   "id": "a765187e",
   "metadata": {},
   "outputs": [],
   "source": [
    "def relu(x):\n",
    "    pass"
   ]
  },
  {
   "cell_type": "code",
   "execution_count": 5,
   "id": "b0a7cde9",
   "metadata": {},
   "outputs": [],
   "source": [
    "class NeuralNetwork:\n",
    "    def __init__(self, act_fun = relu):\n",
    "        self.act_fun = act_fun\n",
    "        self.layers = []\n",
    "    \n",
    "    def add_layer(self, neurons):\n",
    "        self.layers.append(neurons)\n",
    "    \n",
    "    def forward(self, inputs):\n",
    "        current_input = inputs\n",
    "        current_level = 0\n",
    "        curr_output = [] * len(self.layers[0])\n",
    "\n",
    "        while current_level < len(self.layers):\n",
    "            curr_layer = self.layers[current_level]\n",
    "            if any(len(current_input) != neuron.dim for neuron in curr_layer):\n",
    "                raise Exception('Dimension mismatch')\n",
    "            curr_output = [neuron.trigger(current_input) for neuron in curr_layer]\n",
    "            current_input = curr_output\n",
    "            current_level += 1\n",
    "        else:\n",
    "            return curr_output"
   ]
  },
  {
   "cell_type": "markdown",
   "id": "9b258011",
   "metadata": {},
   "source": [
    "This neural network is made using weight matrices\n",
    "1. A weight matrix exists for each layer\n",
    "2. The dimension of the weight matrix is no of neurons * input dim"
   ]
  },
  {
   "cell_type": "code",
   "execution_count": 20,
   "id": "7f81ded6",
   "metadata": {},
   "outputs": [],
   "source": [
    "class NeuralNetwork:\n",
    "    def __init__(self, act_fun = relu):\n",
    "        self.act_fun = act_fun\n",
    "        self.layers = []\n",
    "    \n",
    "    def add_layer(self, weight_mat, biases):\n",
    "        if len(biases) != len(weight_mat) or any(len(weight_mat[i]) != len(weight_mat[0])\n",
    "            for i in range(1, len(weight_mat))):\n",
    "            raise Exception(\"Dimension Invalid\")\n",
    "        \n",
    "        self.layers.append((weight_mat, biases))\n",
    "    \n",
    "    def forward(self, input):\n",
    "        current_layer = 0\n",
    "        current_input = input\n",
    "        current_output = []\n",
    "\n",
    "        while current_layer < len(self.layers):\n",
    "            layer = self.layers[current_layer]  # current weight_matrix\n",
    "            weights, biases = layer\n",
    "            \n",
    "            if len(current_input)!= biases or any(len(current_input) != len(weights[i])\n",
    "                                                  for i in range(len(weights))):\n",
    "                raise Exception(\"Invalid Dimension\")\n",
    "            \n",
    "            current_output = np.dot(weights, current_input) + biases\n",
    "            current_layer += 1\n",
    "            current_input = current_output\n",
    "        return current_output"
   ]
  },
  {
   "cell_type": "code",
   "execution_count": 16,
   "id": "20823a33",
   "metadata": {},
   "outputs": [],
   "source": [
    "nn = NeuralNetwork()"
   ]
  },
  {
   "cell_type": "code",
   "execution_count": 17,
   "id": "72053bbe",
   "metadata": {},
   "outputs": [],
   "source": [
    "inputs = [1, 2, 3, 2.5]\n",
    "weights = [\n",
    "    [0.2, 0.8, -0.5, 1],\n",
    "    [0.5, -0.91, 0.26, -0.5],\n",
    "    [-0.26, -0.27, 0.17, 0.87]\n",
    "]\n",
    "biases = [2, 3, 0.5]"
   ]
  },
  {
   "cell_type": "code",
   "execution_count": 18,
   "id": "906949ce",
   "metadata": {},
   "outputs": [],
   "source": [
    "nn.add_layer(weights, biases)"
   ]
  },
  {
   "cell_type": "code",
   "execution_count": 19,
   "id": "f8bc912f",
   "metadata": {},
   "outputs": [
    {
     "data": {
      "text/plain": [
       "array([4.8  , 1.21 , 2.385])"
      ]
     },
     "execution_count": 19,
     "metadata": {},
     "output_type": "execute_result"
    }
   ],
   "source": [
    "nn.forward(inputs)"
   ]
  },
  {
   "cell_type": "code",
   "execution_count": null,
   "id": "5394e5d2",
   "metadata": {},
   "outputs": [],
   "source": []
  }
 ],
 "metadata": {
  "kernelspec": {
   "display_name": "base",
   "language": "python",
   "name": "python3"
  },
  "language_info": {
   "codemirror_mode": {
    "name": "ipython",
    "version": 3
   },
   "file_extension": ".py",
   "mimetype": "text/x-python",
   "name": "python",
   "nbconvert_exporter": "python",
   "pygments_lexer": "ipython3",
   "version": "3.13.5"
  }
 },
 "nbformat": 4,
 "nbformat_minor": 5
}
